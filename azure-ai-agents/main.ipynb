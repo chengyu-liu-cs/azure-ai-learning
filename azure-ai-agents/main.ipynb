{
 "cells": [
  {
   "cell_type": "markdown",
   "id": "3ee72682",
   "metadata": {},
   "source": [
    "# Dependencies"
   ]
  },
  {
   "cell_type": "code",
   "execution_count": 33,
   "id": "fabbf47b",
   "metadata": {},
   "outputs": [
    {
     "name": "stdout",
     "output_type": "stream",
     "text": [
      "Note: you may need to restart the kernel to use updated packages.\n"
     ]
    }
   ],
   "source": [
    "%pip install --quiet dotenv"
   ]
  },
  {
   "cell_type": "markdown",
   "id": "53643b10",
   "metadata": {},
   "source": [
    "# Create an agent and thread"
   ]
  },
  {
   "cell_type": "code",
   "execution_count": 34,
   "id": "4cd166c1",
   "metadata": {},
   "outputs": [
    {
     "data": {
      "text/plain": [
       "True"
      ]
     },
     "execution_count": 34,
     "metadata": {},
     "output_type": "execute_result"
    }
   ],
   "source": [
    "import os, time\n",
    "from azure.ai.agents import AgentsClient\n",
    "from azure.identity import DefaultAzureCredential\n",
    "from azure.ai.agents.models import ListSortOrder, MessageTextContent, MessageRole\n",
    "from dotenv import load_dotenv\n",
    "load_dotenv()"
   ]
  },
  {
   "cell_type": "markdown",
   "id": "ca177a25",
   "metadata": {},
   "source": [
    "## Create an agent"
   ]
  },
  {
   "cell_type": "code",
   "execution_count": 35,
   "id": "e3dcc921",
   "metadata": {},
   "outputs": [],
   "source": [
    "agents_client = AgentsClient(\n",
    "    endpoint=os.environ[\"AZURE_AI_FOUNDRY_PROJECT_ENDPOINT\"],\n",
    "    credential=DefaultAzureCredential(),\n",
    ")"
   ]
  },
  {
   "cell_type": "code",
   "execution_count": 36,
   "id": "cf86e7d3",
   "metadata": {},
   "outputs": [
    {
     "name": "stdout",
     "output_type": "stream",
     "text": [
      "Created agent, agent ID: asst_Oe481Ck4KQNTpJoPfHDuMz3B\n"
     ]
    }
   ],
   "source": [
    "# [START create_agent]\n",
    "agent = agents_client.create_agent(\n",
    "    model=os.environ[\"AZURE_AI_FOUNDRY_MODEL_DEPLOYMENT_NAME\"],\n",
    "    name=\"my-agent\",\n",
    "    instructions=\"You are helpful agent\",\n",
    ")\n",
    "\n",
    "# [END create_agent]\n",
    "print(f\"Created agent, agent ID: {agent.id}\")\n"
   ]
  },
  {
   "cell_type": "markdown",
   "id": "31fd3a9c",
   "metadata": {},
   "source": [
    "## Create an agent"
   ]
  },
  {
   "cell_type": "code",
   "execution_count": 37,
   "id": "0eff3c89",
   "metadata": {},
   "outputs": [
    {
     "name": "stdout",
     "output_type": "stream",
     "text": [
      "Created thread, thread ID: thread_8aPzges9b52kXYrTMHZfz1dq\n",
      "Created message, message ID: msg_jQm6bQpEZ9FoMvnPwwaUuIW0\n"
     ]
    }
   ],
   "source": [
    "\n",
    "# [START create_thread]\n",
    "thread = agents_client.threads.create()\n",
    "# [END create_thread]\n",
    "print(f\"Created thread, thread ID: {thread.id}\")\n",
    "\n",
    "# [START create_message]\n",
    "message = agents_client.messages.create(thread_id=thread.id, role=\"user\", content=\"Hello, tell me a joke\")\n",
    "# [END create_message]\n",
    "print(f\"Created message, message ID: {message.id}\")\n"
   ]
  },
  {
   "cell_type": "markdown",
   "id": "d1a789b9",
   "metadata": {},
   "source": [
    "## Create a message and process responses"
   ]
  },
  {
   "cell_type": "code",
   "execution_count": 38,
   "id": "ce747bd3",
   "metadata": {},
   "outputs": [
    {
     "name": "stdout",
     "output_type": "stream",
     "text": [
      "Run status: in_progress\n",
      "Run status: in_progress\n",
      "Run status: completed\n",
      "user: Hello, tell me a joke\n",
      "assistant: Sure! Here's a joke for you:\n",
      "\n",
      "Why did the scarecrow win an award?\n",
      "\n",
      "Because he was outstanding in his field! 🌾😄\n",
      "user: Hello, tell me a joke\n",
      "assistant: Sure! Here's a joke for you:\n",
      "\n",
      "Why did the scarecrow win an award?\n",
      "\n",
      "Because he was outstanding in his field! 🌾😄\n"
     ]
    }
   ],
   "source": [
    "# [START create_run]\n",
    "run = agents_client.runs.create(thread_id=thread.id, agent_id=agent.id)\n",
    "\n",
    "# Poll the run as long as run status is queued or in progress\n",
    "while run.status in [\"queued\", \"in_progress\", \"requires_action\"]:\n",
    "    # Wait for a second\n",
    "    time.sleep(1)\n",
    "    run = agents_client.runs.get(thread_id=thread.id, run_id=run.id)\n",
    "    # [END create_run]\n",
    "    print(f\"Run status: {run.status}\")\n",
    "\n",
    "# [START list_messages]\n",
    "messages = agents_client.messages.list(thread_id=thread.id, order=ListSortOrder.ASCENDING)\n",
    "\n",
    "# The messages are following in the reverse order,\n",
    "# we will iterate them and output only text contents.\n",
    "for message in messages:\n",
    "    last_message_content = message.content[-1]\n",
    "    if isinstance(last_message_content, MessageTextContent):\n",
    "        print(f\"{message.role}: {last_message_content.text.value}\")\n",
    "\n",
    "for message in messages:\n",
    "    if message.text_messages:\n",
    "        last_text = message.text_messages[-1]\n",
    "        print(f\"{message.role}: {last_text.text.value}\")\n",
    "\n",
    "# Fetch and log all messages\n",
    "messages = agents_client.messages.list(thread_id=thread.id, order=ListSortOrder.ASCENDING)\n",
    "for message in messages:\n",
    "    if message.role == MessageRole.AGENT and message.url_citation_annotations:\n",
    "        placeholder_annotations = {\n",
    "            annotation.text: f\" [see {annotation.url_citation.title}] ({annotation.url_citation.url})\"\n",
    "            for annotation in message.url_citation_annotations\n",
    "        }\n",
    "        for message_text in message.text_messages:\n",
    "            message_str = message_text.text.value\n",
    "            for k, v in placeholder_annotations.items():\n",
    "                message_str = message_str.replace(k, v)\n",
    "            print(f\"{message.role}: {message_str}\")\n",
    "    else:\n",
    "        for message_text in message.text_messages:\n",
    "            print(f\"{message.role}: {message_text.text.value}\")\n",
    "\n",
    "# [END list_messages]"
   ]
  },
  {
   "cell_type": "markdown",
   "id": "660a06c0",
   "metadata": {},
   "source": [
    "# Add tools"
   ]
  },
  {
   "cell_type": "markdown",
   "id": "297566bc",
   "metadata": {},
   "source": [
    "## Add Knowledge Tool: BingGroundingTool"
   ]
  },
  {
   "cell_type": "code",
   "execution_count": 39,
   "id": "48467195",
   "metadata": {},
   "outputs": [],
   "source": [
    "from azure.ai.agents.models import MessageRole, BingGroundingTool\n",
    "bing_conn_id = os.environ[\"BING_CONNECTION_ID\"]\n",
    "bing_conn_id2 = os.environ[\"BING_CONNECTION_ID2\"]  \n",
    "\n",
    "bing = BingGroundingTool(connection_id=bing_conn_id2, freshness=\"day\", count=5, set_lang=\"en\", market=\"us\")"
   ]
  },
  {
   "cell_type": "markdown",
   "id": "d46eb63d",
   "metadata": {},
   "source": [
    ">Note: If you add a tool to agent.tools in your code after the agent has already been created and registered with the service, this change only affects your local Python object—it does not update the agent’s definition in the Azure service. The portal only shows tools that were present when the agent was created or last updated via the SDK or portal.\n",
    "\n",
    ">Note: To have the portal reflect the new tool, you must update the agent’s definition in the service (for example, using an update or patch method if supported by the SDK, or by recreating the agent with the new tools list). Otherwise, local changes to agent.tools are not synchronized with the portal.\n"
   ]
  },
  {
   "cell_type": "code",
   "execution_count": 40,
   "id": "7bf55c01",
   "metadata": {},
   "outputs": [
    {
     "name": "stdout",
     "output_type": "stream",
     "text": [
      "Name: my-agent\n",
      "Instructions: You are helpful agent\n",
      "Tools: []\n",
      "Other metadata: {'id': 'asst_Oe481Ck4KQNTpJoPfHDuMz3B', 'object': 'assistant', 'created_at': 1750951366, 'name': 'my-agent', 'description': None, 'model': 'gpt-4o', 'instructions': 'You are helpful agent', 'tools': [], 'top_p': 1.0, 'temperature': 1.0, 'tool_resources': {}, 'metadata': {}, 'response_format': 'auto'}\n"
     ]
    }
   ],
   "source": [
    "agent = agents_client.get_agent(agent.id)\n",
    "\n",
    "#agent.tools.append(bing)\n",
    "# Print agent details\n",
    "print(\"Name:\", agent.name)\n",
    "print(\"Instructions:\", agent.instructions)\n",
    "print(\"Tools:\", agent.tools)\n",
    "print(\"Other metadata:\", agent)"
   ]
  },
  {
   "cell_type": "code",
   "execution_count": 41,
   "id": "8b0372c9",
   "metadata": {},
   "outputs": [
    {
     "name": "stdout",
     "output_type": "stream",
     "text": [
      "[{'type': 'bing_grounding', 'bing_grounding': {'search_configurations': [{'connection_id': '/subscriptions/63855818-8b46-4d28-beb3-77974924d47e/resourceGroups/rg-basic-agent-setup/providers/Microsoft.CognitiveServices/accounts/aifoundysssb/projects/proj-default/connections/bingcustomsearch', 'market': 'us', 'set_lang': 'en', 'count': 5, 'freshness': 'day'}]}}]\n"
     ]
    }
   ],
   "source": [
    "new_tools = agent.tools + bing.definitions  # definitions is usually a list\n",
    "\n",
    "agents_client.update_agent(\n",
    "    agent_id=agent.id,\n",
    "    model=agent.model,\n",
    "    name=agent.name,\n",
    "    instructions=agent.instructions,\n",
    "    tools=new_tools,\n",
    "    # add other required fields\n",
    ")\n",
    "agent = agents_client.get_agent(agent.id)\n",
    "print(agent.tools)"
   ]
  },
  {
   "cell_type": "code",
   "execution_count": 42,
   "id": "60b2aeac",
   "metadata": {},
   "outputs": [
    {
     "name": "stdout",
     "output_type": "stream",
     "text": [
      "Created message, ID: msg_ozkY4URRNgTd1BtkDA8jFLe5\n",
      "Run finished with status: failed\n",
      "Run failed: {'code': 'tool_user_error', 'message': 'Error: bing_search_user_error; [bing_search] Failed to call Get Custom Search Instance with status 401: { \"statusCode\": 401, \"message\": \"Unauthorized. Access token is missing, invalid, audience is incorrect (https://bing.azure.com), or have expired.\" }'}\n",
      "Step step_ZXEaCtab6G9sLgwJDWD6LuPF status: failed\n",
      "  Tool calls:\n",
      "    Tool Call ID: call_XLG7UtWRnWcokHolhFWvmeQ2\n",
      "    Type: bing_grounding\n",
      "    Bing Grounding ID: https://api.bing.microsoft.com/v7.0/search?q=latest Microsoft business news June 2025\n",
      "\n",
      "Deleted agent\n",
      "Agent response: Sure! Here's a joke for you:\n",
      "\n",
      "Why did the scarecrow win an award?\n",
      "\n",
      "Because he was outstanding in his field! 🌾😄\n"
     ]
    }
   ],
   "source": [
    "# Create message to thread\n",
    "message = agents_client.messages.create(\n",
    "    thread_id=thread.id,\n",
    "    role=MessageRole.USER,\n",
    "    content=\"What is the latest news of Microsoft? Give me top 3 news articles with their summaries. Importantly, do analyze business impacts or implications of these news articles, show me only significant news articles that have business impacts.\",\n",
    ")\n",
    "print(f\"Created message, ID: {message.id}\")\n",
    "\n",
    "# Create and process agent run in thread with tools\n",
    "run = agents_client.runs.create_and_process(thread_id=thread.id, agent_id=agent.id)\n",
    "print(f\"Run finished with status: {run.status}\")\n",
    "\n",
    "if run.status == \"failed\":\n",
    "    print(f\"Run failed: {run.last_error}\")\n",
    "\n",
    "# Fetch run steps to get the details of the agent run\n",
    "run_steps = agents_client.run_steps.list(thread_id=thread.id, run_id=run.id)\n",
    "for step in run_steps:\n",
    "    print(f\"Step {step['id']} status: {step['status']}\")\n",
    "    step_details = step.get(\"step_details\", {})\n",
    "    tool_calls = step_details.get(\"tool_calls\", [])\n",
    "    \n",
    "    if tool_calls:\n",
    "        print(\"  Tool calls:\")\n",
    "        for call in tool_calls:\n",
    "            print(f\"    Tool Call ID: {call.get('id')}\")\n",
    "            print(f\"    Type: {call.get('type')}\")\n",
    "\n",
    "            bing_grounding_details = call.get(\"bing_grounding\", {})\n",
    "            if bing_grounding_details:\n",
    "                print(f\"    Bing Grounding ID: {bing_grounding_details.get('requesturl')}\")\n",
    "    else:\n",
    "        print(\"  No tool calls found in this step.\")\n",
    "        print(step_details)\n",
    "    print()  # add an extra newline between steps\n",
    "\n",
    "# Delete the agent when done\n",
    "#agents_client.delete_agent(agent.id)\n",
    "print(\"Deleted agent\")\n",
    "\n",
    "# Print the Agent's response message with optional citation\n",
    "response_message = agents_client.messages.get_last_message_by_role(thread_id=thread.id, role=MessageRole.AGENT)\n",
    "if response_message:\n",
    "    for text_message in response_message.text_messages:\n",
    "        print(f\"Agent response: {text_message.text.value}\")\n",
    "    for annotation in response_message.url_citation_annotations:\n",
    "        print(f\"URL Citation: [{annotation.url_citation.title}]({annotation.url_citation.url})\")"
   ]
  },
  {
   "cell_type": "markdown",
   "id": "1f1423f1",
   "metadata": {},
   "source": [
    "## Add Action tool: A Logic App tool\n",
    "\n",
    "It seems at moment, a custom made python util [functions/classes](https://github.com/azure-ai-foundry/foundry-samples/blob/a1b346f0085126da2bd13ae927d5e83fd7e18fb2/samples/microsoft/python/getting-started-agents/logic_apps/user_logic_apps.py) to register and invoke Azure Logic Apps. The script is downloaded and stored under *utils* folder in this repo.\n",
    "\n",
    ">Note: At moment consumption based logic app is supported (Not standard logic app). Does the consumption based logic app support private endpoints?"
   ]
  },
  {
   "cell_type": "code",
   "execution_count": null,
   "id": "c6a8983f",
   "metadata": {},
   "outputs": [
    {
     "name": "stdout",
     "output_type": "stream",
     "text": [
      "Registered logic app 'Send-email' with trigger 'When_a_HTTP_request_is_received'.\n",
      "[{'type': 'function', 'function': {'name': 'send_email_via_logic_app', 'description': 'Sends an email by invoking the specified Logic App with the given recipient, subject, and body.', 'parameters': {'type': 'object', 'properties': {'recipient': {'type': 'string', 'description': 'The email address of the recipient.'}, 'subject': {'type': 'string', 'description': 'The subject of the email.'}, 'body': {'type': 'string', 'description': 'The body of the email.'}}, 'required': ['recipient', 'subject', 'body']}}}]\n",
      "Name: my-agent\n",
      "Instructions: You are helpful agent\n",
      "Tools: [{'type': 'bing_grounding', 'bing_grounding': {'search_configurations': [{'connection_id': '/subscriptions/63855818-8b46-4d28-beb3-77974924d47e/resourceGroups/rg-basic-agent-setup/providers/Microsoft.CognitiveServices/accounts/aifoundysssb/projects/proj-default/connections/bingcustomsearch', 'market': 'us', 'set_lang': 'en', 'count': 5, 'freshness': 'day'}]}}]\n",
      "Other metadata: {'id': 'asst_Oe481Ck4KQNTpJoPfHDuMz3B', 'object': 'assistant', 'created_at': 1750951366, 'name': 'my-agent', 'description': None, 'model': 'gpt-4o', 'instructions': 'You are helpful agent', 'tools': [{'type': 'bing_grounding', 'bing_grounding': {'search_configurations': [{'connection_id': '/subscriptions/63855818-8b46-4d28-beb3-77974924d47e/resourceGroups/rg-basic-agent-setup/providers/Microsoft.CognitiveServices/accounts/aifoundysssb/projects/proj-default/connections/bingcustomsearch', 'market': 'us', 'set_lang': 'en', 'count': 5, 'freshness': 'day'}]}}], 'top_p': 1.0, 'temperature': 1.0, 'tool_resources': {}, 'metadata': {}, 'response_format': 'auto'}\n"
     ]
    }
   ],
   "source": [
    "import os\n",
    "import sys\n",
    "from typing import Set\n",
    "\n",
    "from azure.ai.agents import AgentsClient\n",
    "from azure.ai.agents.models import ToolSet, FunctionTool\n",
    "from azure.identity import DefaultAzureCredential\n",
    "from dotenv import load_dotenv\n",
    "load_dotenv()\n",
    "\n",
    "\n",
    "\n",
    "# Import AzureLogicAppTool and the function factory from user_logic_apps\n",
    "from utils.logicapp import AzureLogicAppTool, create_send_email_function\n",
    "\n",
    "# [START register_logic_app]\n",
    "# Logic App details\n",
    "# Extract subscription and resource group from the project scope\n",
    "subscription_id = os.environ[\"AZURE_SUBSCRIPTION_ID\"]\n",
    "resource_group = os.environ[\"AZURE_AI_FOUNDRY_RESOURCE_GROUP\"]\n",
    "logic_app_name = os.environ[\"AZURE_LOGIC_APP_NAME\"]\n",
    "trigger_name = os.environ[\"AZURE_LOGIC_APP_TRIGGER_NAME\"]\n",
    "bing_conn_id2 = os.environ[\"BING_CONNECTION_ID2\"]  \n",
    "\n",
    "\n",
    "# Create and initialize AzureLogicAppTool utility\n",
    "logic_app_tool = AzureLogicAppTool(subscription_id, resource_group)\n",
    "logic_app_tool.register_logic_app(logic_app_name, trigger_name)\n",
    "print(f\"Registered logic app '{logic_app_name}' with trigger '{trigger_name}'.\")\n",
    "\n",
    "# Create the specialized \"send_email_via_logic_app\" function for your agent tools\n",
    "send_email_func = create_send_email_function(logic_app_tool, logic_app_name)\n",
    "\n",
    "# Prepare the function tools for the agent\n",
    "functions_to_use: Set = {\n",
    "    #fetch_current_datetime,\n",
    "    send_email_func,  # This references the AzureLogicAppTool instance via closure\n",
    "}\n",
    "# [END register_logic_app]\n",
    "\n",
    "# Create an agent\n",
    "functions = FunctionTool(functions=functions_to_use)\n",
    "#bing2 = BingGroundingTool(connection_id=bing_conn_id2, freshness=\"day\", count=5, set_lang=\"en\", market=\"us\")\n",
    "\n",
    "\n",
    "toolset = ToolSet()\n",
    "toolset.add(functions)\n",
    "#toolset.add(bing2)\n",
    "\n",
    "print(toolset.definitions)\n",
    "#agents_client.enable_auto_function_calls(toolset)\n",
    "\n",
    "agent = agents_client.get_agent(agent.id)\n",
    "\n",
    "agent = agents_client.get_agent(\"asst_NppJTDYBhBMkpYpGhWjKLppa\")\n",
    "\n",
    "\n",
    "#agent.tools.append(bing)\n",
    "# Print agent details\n",
    "print(\"Name:\", agent.name)\n",
    "print(\"Instructions:\", agent.instructions)\n",
    "print(\"Tools:\", agent.tools)\n",
    "print(\"Other metadata:\", agent)\n"
   ]
  },
  {
   "cell_type": "code",
   "execution_count": 44,
   "id": "37bbb6bf",
   "metadata": {},
   "outputs": [
    {
     "data": {
      "text/plain": [
       "'/subscriptions/63855818-8b46-4d28-beb3-77974924d47e/resourceGroups/rg-basic-agent-setup/providers/Microsoft.CognitiveServices/accounts/aifoundysssb/projects/proj-default/connections/bingcustomsearch'"
      ]
     },
     "execution_count": 44,
     "metadata": {},
     "output_type": "execute_result"
    }
   ],
   "source": [
    "bing_conn_id2"
   ]
  },
  {
   "cell_type": "code",
   "execution_count": 45,
   "id": "efd7e509",
   "metadata": {},
   "outputs": [
    {
     "data": {
      "text/plain": [
       "[{'type': 'bing_grounding', 'bing_grounding': {'search_configurations': [{'connection_id': '/subscriptions/63855818-8b46-4d28-beb3-77974924d47e/resourceGroups/rg-basic-agent-setup/providers/Microsoft.CognitiveServices/accounts/aifoundysssb/projects/proj-default/connections/bingcustomsearch', 'market': 'us', 'set_lang': 'en', 'count': 5, 'freshness': 'day'}]}}]"
      ]
     },
     "execution_count": 45,
     "metadata": {},
     "output_type": "execute_result"
    }
   ],
   "source": [
    "bing.definitions"
   ]
  },
  {
   "cell_type": "code",
   "execution_count": 14,
   "id": "cc6a43d7",
   "metadata": {},
   "outputs": [
    {
     "data": {
      "text/plain": [
       "[{'type': 'function', 'function': {'name': 'send_email_via_logic_app', 'description': 'Sends an email by invoking the specified Logic App with the given recipient, subject, and body.', 'parameters': {'type': 'object', 'properties': {'recipient': {'type': 'string', 'description': 'The email address of the recipient.'}, 'subject': {'type': 'string', 'description': 'The subject of the email.'}, 'body': {'type': 'string', 'description': 'The body of the email.'}}, 'required': ['recipient', 'subject', 'body']}}},\n",
       " {'type': 'bing_grounding', 'bing_grounding': {'search_configurations': [{'connection_id': '/subscriptions/63855818-8b46-4d28-beb3-77974924d47e/resourceGroups/rg-basic-agent-setup/providers/Microsoft.CognitiveServices/accounts/aifoundysssb/projects/proj-default/connections/bingcustomsearch', 'market': 'us', 'set_lang': 'en', 'count': 5, 'freshness': 'day'}]}}]"
      ]
     },
     "execution_count": 14,
     "metadata": {},
     "output_type": "execute_result"
    }
   ],
   "source": [
    "toolset.definitions"
   ]
  },
  {
   "cell_type": "code",
   "execution_count": 46,
   "id": "b77a074d",
   "metadata": {},
   "outputs": [
    {
     "name": "stdout",
     "output_type": "stream",
     "text": [
      "Existing tool names: {'bingcustomsearch'}\n",
      "New tool names: {'send_email_via_logic_app'}\n",
      "[ {'type': 'bing_grounding', 'bing_grounding': {'search_configurations': [{'connection_id': '/subscriptions/63855818-8b46-4d28-beb3-77974924d47e/resourceGroups/rg-basic-agent-setup/providers/Microsoft.CognitiveServices/accounts/aifoundysssb/projects/proj-default/connections/bingcustomsearch', 'market': 'us', 'set_lang': 'en', 'count': 5, 'freshness': 'day'}]}}]\n",
      "[ {'type': 'bing_grounding', 'bing_grounding': {'search_configurations': [{'connection_id': '/subscriptions/63855818-8b46-4d28-beb3-77974924d47e/resourceGroups/rg-basic-agent-setup/providers/Microsoft.CognitiveServices/accounts/aifoundysssb/projects/proj-default/connections/bingcustomsearch', 'market': 'us', 'set_lang': 'en', 'count': 5, 'freshness': 'day'}]}},\n",
      "  {'type': 'function', 'function': {'name': 'send_email_via_logic_app', 'description': 'Sends an email by invoking the specified Logic App with the given recipient, subject, and body.', 'parameters': {'type': 'object', 'properties': {'recipient': {'type': 'string', 'description': 'The email address of the recipient.'}, 'subject': {'type': 'string', 'description': 'The subject of the email.'}, 'body': {'type': 'string', 'description': 'The body of the email.'}}, 'required': ['recipient', 'subject', 'body']}, 'strict': False}}]\n",
      "Name: my-agent\n",
      "Instructions: You are helpful agent\n",
      "Tools: [{'type': 'bing_grounding', 'bing_grounding': {'search_configurations': [{'connection_id': '/subscriptions/63855818-8b46-4d28-beb3-77974924d47e/resourceGroups/rg-basic-agent-setup/providers/Microsoft.CognitiveServices/accounts/aifoundysssb/projects/proj-default/connections/bingcustomsearch', 'market': 'us', 'set_lang': 'en', 'count': 5, 'freshness': 'day'}]}}, {'type': 'function', 'function': {'name': 'send_email_via_logic_app', 'description': 'Sends an email by invoking the specified Logic App with the given recipient, subject, and body.', 'parameters': {'type': 'object', 'properties': {'recipient': {'type': 'string', 'description': 'The email address of the recipient.'}, 'subject': {'type': 'string', 'description': 'The subject of the email.'}, 'body': {'type': 'string', 'description': 'The body of the email.'}}, 'required': ['recipient', 'subject', 'body']}, 'strict': False}}]\n",
      "Other metadata: {'id': 'asst_Oe481Ck4KQNTpJoPfHDuMz3B', 'object': 'assistant', 'created_at': 1750951366, 'name': 'my-agent', 'description': None, 'model': 'gpt-4o', 'instructions': 'You are helpful agent', 'tools': [{'type': 'bing_grounding', 'bing_grounding': {'search_configurations': [{'connection_id': '/subscriptions/63855818-8b46-4d28-beb3-77974924d47e/resourceGroups/rg-basic-agent-setup/providers/Microsoft.CognitiveServices/accounts/aifoundysssb/projects/proj-default/connections/bingcustomsearch', 'market': 'us', 'set_lang': 'en', 'count': 5, 'freshness': 'day'}]}}, {'type': 'function', 'function': {'name': 'send_email_via_logic_app', 'description': 'Sends an email by invoking the specified Logic App with the given recipient, subject, and body.', 'parameters': {'type': 'object', 'properties': {'recipient': {'type': 'string', 'description': 'The email address of the recipient.'}, 'subject': {'type': 'string', 'description': 'The subject of the email.'}, 'body': {'type': 'string', 'description': 'The body of the email.'}}, 'required': ['recipient', 'subject', 'body']}, 'strict': False}}], 'top_p': 1.0, 'temperature': 1.0, 'tool_resources': {}, 'metadata': {}, 'response_format': 'auto'}\n"
     ]
    }
   ],
   "source": [
    "from pprint import pprint\n",
    "import json\n",
    "\n",
    "# Merge toolset.definitions with agent.tools, avoiding duplicate tool names\n",
    "def get_tool_name(tool):\n",
    "    if tool.get(\"type\") == \"function\":\n",
    "        return tool[\"function\"][\"name\"]\n",
    "    if tool.get(\"type\") == \"bing_grounding\":\n",
    "        configs = tool.get(\"bing_grounding\", {}).get(\"search_configurations\", [])\n",
    "        if configs and \"connection_id\" in configs[0]:\n",
    "            return configs[0][\"connection_id\"].rstrip(\"/\").split(\"/\")[-1]\n",
    "        return \"bing_grounding\"\n",
    "\n",
    "existing_names = {get_tool_name(t) for t in agent.tools}\n",
    "print(f\"Existing tool names: {existing_names}\")\n",
    "new_tool_names = {get_tool_name(t) for t in toolset.definitions}\n",
    "print(f\"New tool names: {new_tool_names}\")\n",
    "new_tools = agent.tools + [t for t in toolset.definitions if get_tool_name(t) not in existing_names]\n",
    "pprint(agent.tools, indent=2)\n",
    "\n",
    "\n",
    "agents_client.update_agent(\n",
    "    agent_id=agent.id,\n",
    "    model=agent.model,\n",
    "    name=agent.name,\n",
    "    instructions=agent.instructions,\n",
    "    tools=new_tools,\n",
    "    # add other required fields\n",
    ")\n",
    "agent = agents_client.get_agent(agent.id)\n",
    "pprint(agent.tools, indent=2)\n",
    "# Print agent details\n",
    "print(\"Name:\", agent.name)\n",
    "print(\"Instructions:\", agent.instructions)\n",
    "print(\"Tools:\", agent.tools)\n",
    "print(\"Other metadata:\", agent)"
   ]
  },
  {
   "cell_type": "code",
   "execution_count": 16,
   "id": "834ea56c",
   "metadata": {},
   "outputs": [
    {
     "name": "stdout",
     "output_type": "stream",
     "text": [
      "Name: my-agent\n",
      "Instructions: You are helpful agent\n",
      "Tools: [{'type': 'bing_grounding', 'bing_grounding': {'search_configurations': [{'connection_id': '/subscriptions/63855818-8b46-4d28-beb3-77974924d47e/resourceGroups/rg-basic-agent-setup/providers/Microsoft.CognitiveServices/accounts/aifoundysssb/projects/proj-default/connections/bingsearch', 'market': 'us', 'set_lang': 'en', 'count': 5, 'freshness': 'day'}]}}, {'type': 'function', 'function': {'name': 'send_email_via_logic_app', 'description': 'Sends an email by invoking the specified Logic App with the given recipient, subject, and body.', 'parameters': {'type': 'object', 'properties': {'recipient': {'type': 'string', 'description': 'The email address of the recipient.'}, 'subject': {'type': 'string', 'description': 'The subject of the email.'}, 'body': {'type': 'string', 'description': 'The body of the email.'}}, 'required': ['recipient', 'subject', 'body']}, 'strict': False}}, {'type': 'bing_grounding', 'bing_grounding': {'search_configurations': [{'connection_id': '/subscriptions/63855818-8b46-4d28-beb3-77974924d47e/resourceGroups/rg-basic-agent-setup/providers/Microsoft.CognitiveServices/accounts/aifoundysssb/projects/proj-default/connections/bingcustomsearch', 'market': 'us', 'set_lang': 'en', 'count': 5, 'freshness': 'day'}]}}]\n",
      "Other metadata: {'id': 'asst_xXtTpD6HG811zL85pgycyxvw', 'object': 'assistant', 'created_at': 1750950687, 'name': 'my-agent', 'description': None, 'model': 'gpt-4o', 'instructions': 'You are helpful agent', 'tools': [{'type': 'bing_grounding', 'bing_grounding': {'search_configurations': [{'connection_id': '/subscriptions/63855818-8b46-4d28-beb3-77974924d47e/resourceGroups/rg-basic-agent-setup/providers/Microsoft.CognitiveServices/accounts/aifoundysssb/projects/proj-default/connections/bingsearch', 'market': 'us', 'set_lang': 'en', 'count': 5, 'freshness': 'day'}]}}, {'type': 'function', 'function': {'name': 'send_email_via_logic_app', 'description': 'Sends an email by invoking the specified Logic App with the given recipient, subject, and body.', 'parameters': {'type': 'object', 'properties': {'recipient': {'type': 'string', 'description': 'The email address of the recipient.'}, 'subject': {'type': 'string', 'description': 'The subject of the email.'}, 'body': {'type': 'string', 'description': 'The body of the email.'}}, 'required': ['recipient', 'subject', 'body']}, 'strict': False}}, {'type': 'bing_grounding', 'bing_grounding': {'search_configurations': [{'connection_id': '/subscriptions/63855818-8b46-4d28-beb3-77974924d47e/resourceGroups/rg-basic-agent-setup/providers/Microsoft.CognitiveServices/accounts/aifoundysssb/projects/proj-default/connections/bingcustomsearch', 'market': 'us', 'set_lang': 'en', 'count': 5, 'freshness': 'day'}]}}], 'top_p': 1.0, 'temperature': 1.0, 'tool_resources': {}, 'metadata': {}, 'response_format': 'auto'}\n"
     ]
    }
   ],
   "source": [
    "# Print agent details\n",
    "print(\"Name:\", agent.name)\n",
    "print(\"Instructions:\", agent.instructions)\n",
    "print(\"Tools:\", agent.tools)\n",
    "print(\"Other metadata:\", agent)"
   ]
  },
  {
   "cell_type": "code",
   "execution_count": null,
   "id": "5451d36e",
   "metadata": {},
   "outputs": [
    {
     "name": "stdout",
     "output_type": "stream",
     "text": [
      "[ {'type': 'function', 'function': {'name': 'send_email_via_logic_app', 'description': 'Sends an email by invoking the specified Logic App with the given recipient, subject, and body.', 'parameters': {'type': 'object', 'properties': {'recipient': {'type': 'string', 'description': 'The email address of the recipient.'}, 'subject': {'type': 'string', 'description': 'The subject of the email.'}, 'body': {'type': 'string', 'description': 'The body of the email.'}}, 'required': ['recipient', 'subject', 'body']}, 'strict': False}},\n",
      "  {'type': 'bing_grounding', 'bing_grounding': {'search_configurations': [{'connection_id': '/subscriptions/63855818-8b46-4d28-beb3-77974924d47e/resourceGroups/rg-basic-agent-setup/providers/Microsoft.CognitiveServices/accounts/aifoundysssb/projects/proj-default/connections/bingsearch', 'market': 'us', 'set_lang': 'en', 'count': 5, 'freshness': 'day'}]}}]\n"
     ]
    }
   ],
   "source": [
    "from pprint import pprint\n",
    "pprint(agent.tools, indent=2)"
   ]
  },
  {
   "cell_type": "code",
   "execution_count": null,
   "id": "29e1fd09",
   "metadata": {},
   "outputs": [],
   "source": [
    "\n",
    "print(f\"Created agent, ID: {agent.id}\")\n",
    "\n",
    "# Create a thread for communication\n",
    "thread = agents_client.threads.create()\n",
    "print(f\"Created thread, ID: {thread.id}\")\n",
    "\n",
    "# Create a message in the thread\n",
    "message = agents_client.messages.create(\n",
    "    thread_id=thread.id,\n",
    "    role=\"user\",\n",
    "    content=\"Hello, please send an email to chengyuliu@microsoft.com with greeting\",\n",
    ")\n",
    "print(f\"Created message, ID: {message.id}\")\n",
    "\n",
    "# Create and process an agent run in the thread\n",
    "run = agents_client.runs.create_and_process(thread_id=thread.id, agent_id=agent.id)\n",
    "print(f\"Run finished with status: {run.status}\")\n",
    "\n",
    "if run.status == \"failed\":\n",
    "    print(f\"Run failed: {run.last_error}\")\n",
    "\n",
    "# Delete the agent when done\n",
    "#agents_client.delete_agent(agent.id)\n",
    "print(\"Deleted agent\")\n",
    "\n",
    "# Fetch and log all messages\n",
    "messages = agents_client.messages.list(thread_id=thread.id)\n",
    "for msg in messages:\n",
    "    if msg.text_messages:\n",
    "        last_text = msg.text_messages[-1]\n",
    "        print(f\"{msg.role}: {last_text.text.value}\")"
   ]
  },
  {
   "cell_type": "markdown",
   "id": "471b08b6",
   "metadata": {},
   "source": [
    "# Clean up"
   ]
  },
  {
   "cell_type": "code",
   "execution_count": null,
   "id": "629d6d5f",
   "metadata": {},
   "outputs": [
    {
     "name": "stdout",
     "output_type": "stream",
     "text": [
      "Deleted agent\n"
     ]
    }
   ],
   "source": [
    "#agents_client.delete_agent(agent.id)\n",
    "print(\"Deleted agent\")\n",
    "#agents_client.threads.delete(thread.id)\n",
    "print(\"Deleted thread\")"
   ]
  },
  {
   "cell_type": "code",
   "execution_count": null,
   "id": "f683b4f1",
   "metadata": {},
   "outputs": [
    {
     "name": "stdout",
     "output_type": "stream",
     "text": [
      "Deleted thread\n"
     ]
    }
   ],
   "source": []
  }
 ],
 "metadata": {
  "kernelspec": {
   "display_name": ".venv",
   "language": "python",
   "name": "python3"
  },
  "language_info": {
   "codemirror_mode": {
    "name": "ipython",
    "version": 3
   },
   "file_extension": ".py",
   "mimetype": "text/x-python",
   "name": "python",
   "nbconvert_exporter": "python",
   "pygments_lexer": "ipython3",
   "version": "3.10.12"
  }
 },
 "nbformat": 4,
 "nbformat_minor": 5
}
